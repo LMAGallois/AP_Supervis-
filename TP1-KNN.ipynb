{
 "cells": [
  {
   "cell_type": "markdown",
   "id": "e6c900bc",
   "metadata": {},
   "source": [
    "### EXERCICE 1 ###"
   ]
  },
  {
   "cell_type": "code",
   "execution_count": 1,
   "id": "7c0976ac",
   "metadata": {},
   "outputs": [],
   "source": [
    "from sklearn.datasets import fetch_openml \n",
    "mnist = fetch_openml('mnist_784', as_frame=False)\n"
   ]
  },
  {
   "cell_type": "code",
   "execution_count": 2,
   "id": "0ab56c29",
   "metadata": {},
   "outputs": [
    {
     "name": "stdout",
     "output_type": "stream",
     "text": [
      "70000\n"
     ]
    }
   ],
   "source": [
    "#print(mnist) \n",
    "#commande qui affiche l'ensemble du dataset en mode verbose (mnist.data et mnist.target)\n",
    "\n",
    "#print (mnist.data) \n",
    "#affiche seulement les data (dont targets)\n",
    "\n",
    "#print (mnist.target)\n",
    "#affiche les numéros trouvés\n",
    "\n",
    "print(len(mnist.data)) \n",
    "#affiche les tailles des matrices\n",
    "\n",
    "#help(len)     \n",
    "#print (mnist.data.shape) \n",
    "#print (mnist.target.shape) \n",
    "\n",
    "#mnist.data[0] \n",
    "\n",
    "#mnist.data[0][1]\n",
    "\n",
    "#mnist.data[:,1] \n",
    "\n",
    "#mnist.data[:100]\n"
   ]
  },
  {
   "cell_type": "code",
   "execution_count": 3,
   "id": "2cc289ba",
   "metadata": {},
   "outputs": [
    {
     "data": {
      "image/png": "[encoded data removed]",
      "text/plain": [
       "<Figure size 432x288 with 1 Axes>"
      ]
     },
     "metadata": {
      "needs_background": "light"
     },
     "output_type": "display_data"
    },
    {
     "data": {
      "text/plain": [
       "['class']"
      ]
     },
     "execution_count": 3,
     "metadata": {},
     "output_type": "execute_result"
    }
   ],
   "source": [
    "import matplotlib.pyplot as plt \n",
    "images = mnist.data.reshape((-1, 28, 28)) \n",
    "plt.imshow(images[0],cmap=plt.cm.gray_r,interpolation=\"nearest\") \n",
    "plt.show()\n",
    "\n",
    "mnist.target_names #affichage classe correspondant à l'image\n"
   ]
  },
  {
   "cell_type": "markdown",
   "id": "e0f9e5a5",
   "metadata": {},
   "source": [
    "### EXERCICE 2 ###"
   ]
  },
  {
   "cell_type": "code",
   "execution_count": 4,
   "id": "3ac2bad6",
   "metadata": {},
   "outputs": [
    {
     "data": {
      "image/png": "[encoded data removed]",
      "text/plain": [
       "<Figure size 432x288 with 2 Axes>"
      ]
     },
     "metadata": {
      "needs_background": "light"
     },
     "output_type": "display_data"
    },
    {
     "data": {
      "text/plain": [
       "'for i in range(2,15) :\\n    temps=0\\n    points=0\\n    kf = KFold(n_splits=10, shuffle=True)\\n    for train_index, test_index in kf.split(data):\\n        start=time.time()\\n        clf = KNeighborsClassifier (n_neighbors=i, n_jobs=1)\\n        #calculer la diff entre n_jobs=-1(all processors) et n_jobs=1( ou none)\\n        clf.fit(data[train_index], target[train_index])\\n        clf.predict(data[test_index])\\n        #print(f\"Nombre de voisins: {i}, score : {clf.score(data[test_index], target[test_index])}\")\\n        end=time.time()\\n        #print(f\"temps= {end-start}\")\\n        temps+=end-start\\n        points+=clf.score(data[test_index], target[test_index])\\n    print(f\"average score: {points/50}, average time: {temps/50}\")'"
      ]
     },
     "execution_count": 4,
     "metadata": {},
     "output_type": "execute_result"
    }
   ],
   "source": [
    "import numpy as np\n",
    "import time\n",
    "from sklearn.model_selection import train_test_split\n",
    "from sklearn.neighbors import KNeighborsClassifier\n",
    "from sklearn.model_selection import KFold\n",
    "from sklearn.neighbors import DistanceMetric\n",
    "\n",
    "#Echantillon de 5000 exemples\n",
    "index=np.random.randint(70000, size=5000)\n",
    "data=mnist.data[index]\n",
    "target=mnist.target[index]\n",
    "\n",
    "#On divise la base à 80% pour l'apprentissage et 20% tests\n",
    "pourcentage_de_données = 0.8\n",
    "temps=[]\n",
    "points=[]\n",
    "for i in [0.5, 0.6, 0.7, 0.8, 0.9]:\n",
    "\n",
    "    xtrain,  xtest,  ytrain,  ytest  =  train_test_split(data,  target, train_size=i)\n",
    "    start=time.time()\n",
    "    clf = KNeighborsClassifier (n_neighbors=3)\n",
    "    clf.fit(xtrain, ytrain)\n",
    "    clf.predict(xtest)\n",
    "    end=time.time()\n",
    "    temps.append(end-start)\n",
    "    points.append(clf.score(xtest, ytest))\n",
    "\n",
    "plt.figure(1)\n",
    "plt.subplot(1,2,1)\n",
    "plt.plot([0.5, 0.6, 0.7, 0.8, 0.9], temps)\n",
    "plt.subplot(1,2,2)\n",
    "plt.plot([0.5, 0.6, 0.7, 0.8, 0.9], points)\n",
    "plt.show()\n",
    "#On affiche la classe de l'image 4 et sa classe prédite\n",
    "#print(target[4])\n",
    "#print(clf.predict([data[4]]))\n",
    "\n",
    "#Affichage du score de l'échantillon de test\n",
    "#print(clf.score(xtest, ytest))\n",
    "                \n",
    "#Taux d'erreur \n",
    "#print(clf.score(xtrain, ytrain))\n",
    "\n",
    "#Recherche du k optimal\n",
    "for i in range(2,15) :\n",
    "    temps=0\n",
    "    points=0\n",
    "    kf = KFold(n_splits=10, shuffle=True)\n",
    "    for train_index, test_index in kf.split(data):\n",
    "        start=time.time()\n",
    "        clf = KNeighborsClassifier (n_neighbors=i, n_jobs=1)\n",
    "        #calculer la diff entre n_jobs=-1(all processors) et n_jobs=1( ou none)\n",
    "        clf.fit(data[train_index], target[train_index])\n",
    "        clf.predict(data[test_index])\n",
    "        #print(f\"Nombre de voisins: {i}, score : {clf.score(data[test_index], target[test_index])}\")\n",
    "        end=time.time()\n",
    "        #print(f\"temps= {end-start}\")\n",
    "        temps+=end-start\n",
    "        points+=clf.score(data[test_index], target[test_index])\n",
    "    print(f\"average score: {points/50}, average time: {temps/50}\")\n",
    "#Chebychev < Manhattan < Euclidienne\n",
    "\n",
    "#resultat theorique : en parallele plus rapide, mais induit un cout fixe\n"
   ]
  },
  {
   "cell_type": "code",
   "execution_count": null,
   "id": "adbca54e",
   "metadata": {},
   "outputs": [],
   "source": []
  },
  {
   "cell_type": "code",
   "execution_count": null,
   "id": "9e5f06c4",
   "metadata": {},
   "outputs": [],
   "source": []
  }
 ],
 "metadata": {
  "kernelspec": {
   "display_name": "Python 3",
   "language": "python",
   "name": "python3"
  },
  "language_info": {
   "codemirror_mode": {
    "name": "ipython",
    "version": 3
   },
   "file_extension": ".py",
   "mimetype": "text/x-python",
   "name": "python",
   "nbconvert_exporter": "python",
   "pygments_lexer": "ipython3",
   "version": "3.8.10"
  }
 },
 "nbformat": 4,
 "nbformat_minor": 5
}
